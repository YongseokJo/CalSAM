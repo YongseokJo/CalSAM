{
 "cells": [
  {
   "cell_type": "code",
   "execution_count": 1,
   "id": "aac6cffa-f101-4774-95b8-b3bd4ba25402",
   "metadata": {
    "tags": []
   },
   "outputs": [
    {
     "name": "stdout",
     "output_type": "stream",
     "text": [
      "CUDA Available\n"
     ]
    }
   ],
   "source": [
    "import sys,os\n",
    "import numpy as np\n",
    "import torch\n",
    "import sbi.utils as utils\n",
    "from sbi.inference.base import infer\n",
    "import matplotlib.pyplot as plt\n",
    "from sbi import analysis as analysis\n",
    "from sbi.inference import SNPE, prepare_for_sbi, simulate_for_sbi\n",
    "from sbi.utils.get_nn_models import posterior_nn\n",
    "import pickle\n",
    "# get GPU if possible\n",
    "if torch.cuda.is_available():\n",
    "    print(\"CUDA Available\")\n",
    "    device = torch.device('cuda')\n",
    "else:\n",
    "    print(\"CUDA Not Available\")\n",
    "    device = torch.device('cpu')"
   ]
  },
  {
   "cell_type": "code",
   "execution_count": 4,
   "id": "93e21952-1fe4-4f5f-ab19-c0c5b218ee50",
   "metadata": {},
   "outputs": [],
   "source": [
    "fgas = np.loadtxt(\"observation/calibration_data/fgas_boselli14.dat\")\n",
    "peeple = np.loadtxt(\"observation/calibration_data/peeples14.fgas.dat\")\n",
    "smet   = np.loadtxt(\"observation/calibration_data/stellarmet.gallazzi.dat\")"
   ]
  },
  {
   "cell_type": "code",
   "execution_count": 3,
   "id": "9e33f501-91b7-47b6-be0f-da855e2e16f9",
   "metadata": {},
   "outputs": [
    {
     "data": {
      "text/plain": [
       "array([[ 9.15,  0.27,  0.26,  0.3 ,  0.26],\n",
       "       [ 9.49, -0.07,  0.28, -0.06,  0.27],\n",
       "       [10.  , -0.33,  0.23, -0.37,  0.23],\n",
       "       [10.52, -0.37,  0.18, -0.48,  0.18]])"
      ]
     },
     "execution_count": 3,
     "metadata": {},
     "output_type": "execute_result"
    }
   ],
   "source": [
    "fgas"
   ]
  },
  {
   "cell_type": "code",
   "execution_count": 13,
   "id": "63156196-1c05-40c3-9ee0-b330c0ad4ed2",
   "metadata": {},
   "outputs": [
    {
     "data": {
      "text/plain": [
       "(array([ 9.15,  9.49, 10.  , 10.52]),\n",
       " array([ 8.91,  9.11,  9.31,  9.51,  9.72,  9.91, 10.11, 10.31, 10.51,\n",
       "        10.72, 10.91, 11.11, 11.31, 11.51, 11.72, 11.91]))"
      ]
     },
     "execution_count": 13,
     "metadata": {},
     "output_type": "execute_result"
    }
   ],
   "source": [
    "fgas[:,0], smet[:,0]"
   ]
  },
  {
   "cell_type": "code",
   "execution_count": 7,
   "id": "af552604-2f5d-4c11-8dbe-4c28f405b53a",
   "metadata": {},
   "outputs": [
    {
     "data": {
      "text/plain": [
       "<matplotlib.collections.PathCollection at 0x15545dca9340>"
      ]
     },
     "execution_count": 7,
     "metadata": {},
     "output_type": "execute_result"
    },
    {
     "data": {
      "image/png": "[encoded data removed]",
      "text/plain": [
       "<Figure size 432x288 with 1 Axes>"
      ]
     },
     "metadata": {
      "needs_background": "light"
     },
     "output_type": "display_data"
    }
   ],
   "source": [
    "plt.scatter(smet[:,0], smet[:,1])"
   ]
  },
  {
   "cell_type": "code",
   "execution_count": 18,
   "id": "473a92d8-08aa-401f-a275-4b12d4390651",
   "metadata": {},
   "outputs": [
    {
     "data": {
      "text/plain": [
       "<matplotlib.collections.PathCollection at 0x15545d5cd910>"
      ]
     },
     "execution_count": 18,
     "metadata": {},
     "output_type": "execute_result"
    },
    {
     "data": {
      "image/png": "[encoded data removed]",
      "text/plain": [
       "<Figure size 432x288 with 1 Axes>"
      ]
     },
     "metadata": {
      "needs_background": "light"
     },
     "output_type": "display_data"
    }
   ],
   "source": [
    "plt.scatter(fgas[:,0], fgas[:,1])\n",
    "plt.scatter(peeple[:,0], peeple[:,1])"
   ]
  },
  {
   "cell_type": "code",
   "execution_count": 17,
   "id": "3ff5f3d1-f51e-4bc6-a1ad-62534456bab2",
   "metadata": {},
   "outputs": [],
   "source": [
    "np.save('./observation/smfgas',fgas[:,[0,1]])\n",
    "np.save('./observation/smz',smet[1:12,[0,1]])"
   ]
  },
  {
   "cell_type": "markdown",
   "id": "e823326f-2f47-476f-9d78-640ac3e6276f",
   "metadata": {
    "tags": []
   },
   "source": [
    "## Observational SMFs"
   ]
  },
  {
   "cell_type": "markdown",
   "id": "d98fcb02-6a1e-473b-adb4-9a86ce419360",
   "metadata": {},
   "source": [
    "### Baldry12"
   ]
  },
  {
   "cell_type": "code",
   "execution_count": 11,
   "id": "ecde088a-9493-409f-bd4a-ba615393cb22",
   "metadata": {},
   "outputs": [],
   "source": [
    "mass = []; smf = []\n",
    "with open(\"observation/gsmf-baldry12.dat\", 'r') as f:\n",
    "    f.readline();f.readline();f.readline();f.readline();\n",
    "    for line in f.readlines():\n",
    "        split = line.split()\n",
    "        mass.append(float(split[0]))\n",
    "        smf.append(float(split[2])*1e-3)"
   ]
  },
  {
   "cell_type": "code",
   "execution_count": 10,
   "id": "df20fd80-0493-4aaa-8f7f-5e4d38153df0",
   "metadata": {},
   "outputs": [
    {
     "data": {
      "image/png": "[encoded data removed]",
      "text/plain": [
       "<Figure size 432x288 with 1 Axes>"
      ]
     },
     "metadata": {
      "needs_background": "light"
     },
     "output_type": "display_data"
    }
   ],
   "source": [
    "plt.plot(mass, smf)\n",
    "plt.yscale('log')"
   ]
  },
  {
   "cell_type": "code",
   "execution_count": 15,
   "id": "fcaa1d36-c4af-4995-b9ee-d44d8f0844e2",
   "metadata": {},
   "outputs": [],
   "source": [
    "smf_new = np.c_[mass,smf]\n",
    "np.save('observation/baldry12', smf_new)"
   ]
  },
  {
   "cell_type": "markdown",
   "id": "1fa71131-2780-458b-87ae-f2af4d01b114",
   "metadata": {},
   "source": [
    "### Bernardi13"
   ]
  },
  {
   "cell_type": "code",
   "execution_count": 2,
   "id": "41e45f19-0f02-4a1c-8861-92e43396ef69",
   "metadata": {},
   "outputs": [],
   "source": [
    "mass = []; smf = []\n",
    "with open(\"observation/gsmf-bernardi13.serexp.dat\", 'r') as f:\n",
    "    f.readline();f.readline();f.readline();f.readline();\n",
    "    for line in f.readlines():\n",
    "        split = line.split()\n",
    "        mass.append(float(split[0]))\n",
    "        smf.append(float(split[1]))"
   ]
  },
  {
   "cell_type": "code",
   "execution_count": 3,
   "id": "0c951715-5a8a-4d15-b7c7-8003baed40b0",
   "metadata": {},
   "outputs": [
    {
     "data": {
      "image/png": "[encoded data removed]",
      "text/plain": [
       "<Figure size 432x288 with 1 Axes>"
      ]
     },
     "metadata": {
      "needs_background": "light"
     },
     "output_type": "display_data"
    }
   ],
   "source": [
    "plt.plot(mass, np.power(10, smf))\n",
    "plt.yscale('log')"
   ]
  },
  {
   "cell_type": "code",
   "execution_count": 4,
   "id": "76a62b66-8aa9-4cbe-b481-c271f5db1e85",
   "metadata": {},
   "outputs": [],
   "source": [
    "smf_new = np.c_[mass,np.power(10, smf)]\n",
    "np.save('observation/bernardi13', smf_new)"
   ]
  },
  {
   "cell_type": "markdown",
   "id": "50314488-481a-489e-9884-f0d5b5c3edf2",
   "metadata": {},
   "source": [
    "### Moustakas13"
   ]
  },
  {
   "cell_type": "code",
   "execution_count": 31,
   "id": "e99cf813-485c-408c-91c6-93b2da24e31e",
   "metadata": {},
   "outputs": [],
   "source": [
    "mass = []; smf = []\n",
    "with open(\"observation/gsmf-moustakas13.dat\", 'r') as f:\n",
    "    [f.readline() for _ in range(16)]\n",
    "    for _ in range(33):\n",
    "        line = f.readline()\n",
    "        split = line.split()\n",
    "        #print(split)\n",
    "        mass.append(float(split[3]))\n",
    "        smf.append(float(split[5]))"
   ]
  },
  {
   "cell_type": "code",
   "execution_count": 32,
   "id": "f872dfd0-c481-4a5c-a4e7-4add3256de72",
   "metadata": {},
   "outputs": [
    {
     "data": {
      "image/png": "[encoded data removed]",
      "text/plain": [
       "<Figure size 432x288 with 1 Axes>"
      ]
     },
     "metadata": {
      "needs_background": "light"
     },
     "output_type": "display_data"
    }
   ],
   "source": [
    "plt.plot(mass, np.power(10, smf))\n",
    "plt.yscale('log')"
   ]
  },
  {
   "cell_type": "code",
   "execution_count": 33,
   "id": "9c8ca5b7-7a81-4bba-9811-8149d15ec764",
   "metadata": {},
   "outputs": [],
   "source": [
    "smf_new = np.c_[mass,np.power(10, smf)]\n",
    "np.save('observation/moustakas13', smf_new)"
   ]
  },
  {
   "cell_type": "markdown",
   "id": "4a1adf99-08c2-455a-a237-4c3632ccf0e9",
   "metadata": {
    "tags": []
   },
   "source": [
    "## -----------------"
   ]
  },
  {
   "cell_type": "code",
   "execution_count": null,
   "id": "a24546e5-f54e-4cda-9b5c-1a4c2c8a0dce",
   "metadata": {},
   "outputs": [],
   "source": []
  },
  {
   "cell_type": "code",
   "execution_count": 13,
   "id": "4a95275c-984a-480f-b149-fc02dfa2fa7f",
   "metadata": {},
   "outputs": [],
   "source": [
    "data_to_process = np.load(\"data/params_0.npy\")\n",
    "new_data = np.zeros((data_to_process.shape[0], data_to_process.shape[1]+1))\n",
    "new_data[:,1:] = data_to_process\n",
    "new_data[:,0]  = np.arange(new_data.shape[0])"
   ]
  },
  {
   "cell_type": "code",
   "execution_count": null,
   "id": "d64174b8-a6c9-4a95-ba40-f532e9e72dda",
   "metadata": {
    "tags": []
   },
   "outputs": [],
   "source": [
    "import multiprocessing\n",
    "\n",
    "def process_data(data):\n",
    "    process = multiprocessing.current_process()\n",
    "    process_number = process._identity[0] if process._identity else 0\n",
    "    #print(\"Worker process number:\", process_number)\n",
    "    # Process the data here\n",
    "    print(int(data[0]),\"     \")\n",
    "    #np.save(\"{}\".format(process_number),data)\n",
    "\n",
    "\n",
    "num_processes = multiprocessing.cpu_count()  # Number of available CPU cores\n",
    "data_to_process = np.load(\"data/params_0.npy\")\n",
    "new_data = np.zeros((data_to_process.shape[0], data_to_process.shape[1]+1))\n",
    "new_data[:,1:] = data_to_process\n",
    "new_data[:,0]  = np.arange(new_data.shape[0])\n",
    "\n",
    "with multiprocessing.Pool(processes=num_processes) as pool:\n",
    "    pool.map(process_data, new_data)\n"
   ]
  },
  {
   "cell_type": "code",
   "execution_count": 6,
   "id": "6cb1126d-436e-431b-8a45-1e226b272d3c",
   "metadata": {},
   "outputs": [],
   "source": [
    "theta   = np.random.uniform(\n",
    "    low =(0.25, 0.425, 1., 27.5, 0.6, 5e-4, 0.025),\n",
    "    high=(4., 6.8, 5., 440., 2.4, 0.008, 0.4), size=(50,7))\n",
    "n_round = 0\n",
    "fpath   = '/mnt/home/yjo10/ceph/ILI/SAM/data'\n",
    "np.save(\"data/params_{}.npy\".format(n_round),theta)\n",
    "np.save(\"data/seed.npy\".format(n_round),theta)"
   ]
  },
  {
   "cell_type": "code",
   "execution_count": 2,
   "id": "6ae93ba8-4824-4919-bf3a-cbeb524800d2",
   "metadata": {},
   "outputs": [],
   "source": [
    "theta=np.random.uniform(low=0.1,high=5, size=(50,2))\n",
    "n_round = 0\n",
    "fpath   = '/mnt/home/yjo10/ceph/ILI/SAM/data'\n",
    "np.save(\"data/params_{}.npy\".format(n_round),theta)"
   ]
  },
  {
   "cell_type": "code",
   "execution_count": null,
   "id": "0a134ef4-e819-401b-b8a2-fd6de8f8dfbf",
   "metadata": {},
   "outputs": [],
   "source": [
    "n_round = 0\n",
    "#theta = prior.sample((50,))\n",
    "#x = linear_gaussian(theta)\n",
    "fpath   = '/mnt/home/yjo10/ceph/ILI/SAM/data'\n",
    "np.save(\"data/params_{}.npy\".format(n_round),theta)\n",
    "#np.save(\"{}/obs_{}\".format(fpath,n_round), x)"
   ]
  },
  {
   "cell_type": "code",
   "execution_count": 39,
   "id": "c70a254e-e3b7-44bb-805f-449d0e78a47b",
   "metadata": {},
   "outputs": [],
   "source": [
    "#####################################################################################\n",
    "num_dim = 3\n",
    "num_rounds = 3\n",
    "prior = utils.BoxUniform(low=-2 * torch.ones(num_dim), high=2 * torch.ones(num_dim))\n",
    "\n",
    "\n",
    "def simulator(parameter_set):\n",
    "    return 1.0 + parameter_set + torch.randn(parameter_set.shape) * 0.1\n",
    "\n",
    "def linear_gaussian(theta):\n",
    "    return theta + 1.0 + torch.randn_like(theta) * 0.1\n",
    "\n",
    "observation = torch.zeros(3)\n",
    "posteriors = []\n",
    "proposal = prior\n",
    "#simulator, prior = prepare_for_sbi(linear_gaussian, prior)\n",
    "\n",
    "inference = SNPE(prior=prior)"
   ]
  },
  {
   "cell_type": "code",
   "execution_count": 40,
   "id": "6b1e2ad8-a575-4242-a866-a7d1e8dc744b",
   "metadata": {},
   "outputs": [],
   "source": [
    "theta = prior.sample((50,))\n",
    "x = linear_gaussian(theta)\n"
   ]
  },
  {
   "cell_type": "code",
   "execution_count": 41,
   "id": "63338845-c012-4ba9-a707-d3e0d409219c",
   "metadata": {},
   "outputs": [
    {
     "name": "stdout",
     "output_type": "stream",
     "text": [
      " Neural network successfully converged after 163 epochs."
     ]
    }
   ],
   "source": [
    "density_estimator = inference.append_simulations(\n",
    "    theta, x, proposal=proposal\n",
    ").train()\n",
    "posterior = inference.build_posterior()\n",
    "posteriors.append(posterior)\n",
    "proposal = posterior.set_default_x(observation)"
   ]
  },
  {
   "cell_type": "code",
   "execution_count": 4,
   "id": "fd58f647-2465-4efe-afed-5234d3c2d073",
   "metadata": {},
   "outputs": [
    {
     "name": "stdout",
     "output_type": "stream",
     "text": [
      " Neural network successfully converged after 191 epochs."
     ]
    }
   ],
   "source": [
    "density_estimator = inference.append_simulations(\n",
    "    theta, x, proposal=proposal\n",
    ").train()\n",
    "posterior = inference.build_posterior(density_estimator)\n",
    "posteriors.append(posterior)\n",
    "proposal = posterior.set_default_x(observation)"
   ]
  },
  {
   "cell_type": "code",
   "execution_count": 42,
   "id": "3e8e4752-5ba3-4337-ad8c-203ef721b570",
   "metadata": {},
   "outputs": [
    {
     "data": {
      "application/vnd.jupyter.widget-view+json": {
       "model_id": "dce3492a11734a589264e4b35100fbe5",
       "version_major": 2,
       "version_minor": 0
      },
      "text/plain": [
       "Drawing 100 posterior samples:   0%|          | 0/100 [00:00<?, ?it/s]"
      ]
     },
     "metadata": {},
     "output_type": "display_data"
    },
    {
     "data": {
      "image/png": "[encoded data removed]",
      "text/plain": [
       "<Figure size 432x432 with 9 Axes>"
      ]
     },
     "metadata": {
      "needs_background": "light"
     },
     "output_type": "display_data"
    }
   ],
   "source": [
    "samples = posterior.sample((100,))\n",
    "_ = analysis.pairplot(samples, limits=[[-2, 2], [-2, 2], [-2, 2]], figsize=(6, 6))"
   ]
  },
  {
   "cell_type": "code",
   "execution_count": 5,
   "id": "529f6c05-71a5-4e60-8504-36f8995bfa5e",
   "metadata": {},
   "outputs": [
    {
     "data": {
      "text/plain": [
       "DirectPosterior sampler for potential_fn=<PosteriorBasedPotential>"
      ]
     },
     "execution_count": 5,
     "metadata": {},
     "output_type": "execute_result"
    }
   ],
   "source": [
    "posterior"
   ]
  },
  {
   "cell_type": "code",
   "execution_count": 6,
   "id": "cf99ce2e-eda4-49a7-893e-47839bfd73b8",
   "metadata": {},
   "outputs": [],
   "source": [
    "def save_object(obj, filename):\n",
    "    with open(filename, 'wb') as outp:  # Overwrites any existing file.\n",
    "        pickle.dump(obj, outp, pickle.HIGHEST_PROTOCOL)\n",
    "\n",
    "# sample usage\n",
    "save_object(posterior, 'post.pkl')"
   ]
  },
  {
   "cell_type": "code",
   "execution_count": 12,
   "id": "7ac52722-8874-4bb1-aef5-fa011f2a0b92",
   "metadata": {},
   "outputs": [],
   "source": [
    "file = open(\"post.pkl\",'rb')\n",
    "post_load = pickle.load(file)\n",
    "file.close()"
   ]
  },
  {
   "cell_type": "code",
   "execution_count": 6,
   "id": "5af200f3-1db1-4c40-b0af-2ca46dbdad47",
   "metadata": {},
   "outputs": [],
   "source": [
    "post_load = post_load.set_default_x(observation)"
   ]
  },
  {
   "cell_type": "code",
   "execution_count": 13,
   "id": "e6793449-cf46-44a3-94c4-07aae688dffe",
   "metadata": {
    "tags": []
   },
   "outputs": [
    {
     "data": {
      "application/vnd.jupyter.widget-view+json": {
       "model_id": "f8f008482daf4fdc84dbd4d906422ca0",
       "version_major": 2,
       "version_minor": 0
      },
      "text/plain": [
       "Drawing 100 posterior samples:   0%|          | 0/100 [00:00<?, ?it/s]"
      ]
     },
     "metadata": {},
     "output_type": "display_data"
    }
   ],
   "source": [
    "sam = post_load.sample((100,))"
   ]
  },
  {
   "cell_type": "code",
   "execution_count": 14,
   "id": "c01c5f97-ec3e-4824-8147-350379b62d37",
   "metadata": {},
   "outputs": [
    {
     "data": {
      "image/png": "[encoded data removed]",
      "text/plain": [
       "<Figure size 432x432 with 9 Axes>"
      ]
     },
     "metadata": {
      "needs_background": "light"
     },
     "output_type": "display_data"
    }
   ],
   "source": [
    "_ = analysis.pairplot(sam, limits=[[-2, 2], [-2, 2], [-2, 2]], figsize=(6, 6))"
   ]
  },
  {
   "cell_type": "code",
   "execution_count": null,
   "id": "0428d98f-c014-4d7b-a7ca-3a9ad78546e7",
   "metadata": {},
   "outputs": [],
   "source": []
  },
  {
   "cell_type": "code",
   "execution_count": 49,
   "id": "5abea755-f8d5-4e32-b2b6-2543fe27e082",
   "metadata": {},
   "outputs": [],
   "source": [
    "n_round = 0\n",
    "theta = prior.sample((50,))\n",
    "x = linear_gaussian(theta)\n",
    "fpath   = '/mnt/home/yjo10/ceph/ILI/SAM/data'\n",
    "np.save(\"data/params_{}.npy\".format(n_round),theta)\n",
    "np.save(\"{}/obs_{}\".format(fpath,n_round), x)"
   ]
  },
  {
   "cell_type": "code",
   "execution_count": 44,
   "id": "92b9c7f8-eecf-45dc-bf30-678f68f0e848",
   "metadata": {},
   "outputs": [
    {
     "name": "stderr",
     "output_type": "stream",
     "text": [
      "/mnt/home/yjo10/pyenv/venv/lib/python3.9/site-packages/sbi/inference/base.py:437: UserWarning: When the inference object is pickled, the behaviour of the loaded object changes in the following two ways: 1) `.train(..., retrain_from_scratch=True)` is not supported. 2) When the loaded object calls the `.train()` method, it generates a new tensorboard summary writer (instead of appending to the current one).\n",
      "  warn(\n"
     ]
    }
   ],
   "source": [
    "def save_object(obj, filename):\n",
    "    with open(filename, 'wb') as outp:  # Overwrites any existing file.\n",
    "        pickle.dump(obj, outp, pickle.HIGHEST_PROTOCOL)\n",
    "\n",
    "# sample usage\n",
    "save_object(inference, 'test.pkl')"
   ]
  },
  {
   "cell_type": "code",
   "execution_count": 55,
   "id": "68611482-9cc9-4094-8a08-619f095dbb89",
   "metadata": {},
   "outputs": [],
   "source": [
    "file = open(\"test.pkl\",'rb')\n",
    "object_file = pickle.load(file)\n",
    "file.close()"
   ]
  },
  {
   "cell_type": "code",
   "execution_count": 63,
   "id": "a2eeba54-af38-415d-a92c-e9afbf499c5d",
   "metadata": {},
   "outputs": [],
   "source": [
    "n_round = \n",
    "fpath   = '/mnt/home/yjo10/ceph/ILI/SAM/data'\n",
    "theta = np.load(\"data/params_{}.npy\".format(n_round))\n",
    "theta = torch.tensor(theta)\n",
    "x = linear_gaussian(theta)\n",
    "np.save(\"{}/obs_{}\".format(fpath,n_round), x)"
   ]
  },
  {
   "cell_type": "code",
   "execution_count": 72,
   "id": "6e01fb3a-6cd1-423b-b9c9-02d00a96cb78",
   "metadata": {},
   "outputs": [],
   "source": [
    "file = open(\"data/ILI.pkl\",'rb')\n",
    "object_file = pickle.load(file)\n",
    "file.close()"
   ]
  },
  {
   "cell_type": "code",
   "execution_count": 73,
   "id": "b1ed3f75-d147-4003-98f8-4df074cec4f4",
   "metadata": {},
   "outputs": [
    {
     "data": {
      "text/plain": [
       "2"
      ]
     },
     "execution_count": 73,
     "metadata": {},
     "output_type": "execute_result"
    }
   ],
   "source": [
    "object_file.get_round()"
   ]
  },
  {
   "cell_type": "code",
   "execution_count": 74,
   "id": "652c4d9e-6cc2-4c53-a1e7-f724005bd5d7",
   "metadata": {},
   "outputs": [
    {
     "data": {
      "application/vnd.jupyter.widget-view+json": {
       "model_id": "0a032f64d17941bb822c5814e11f9173",
       "version_major": 2,
       "version_minor": 0
      },
      "text/plain": [
       "Drawing 2000 posterior samples:   0%|          | 0/2000 [00:00<?, ?it/s]"
      ]
     },
     "metadata": {},
     "output_type": "display_data"
    },
    {
     "data": {
      "image/png": "[encoded data removed]",
      "text/plain": [
       "<Figure size 432x432 with 9 Axes>"
      ]
     },
     "metadata": {
      "needs_background": "light"
     },
     "output_type": "display_data"
    }
   ],
   "source": [
    "posterior = object_file.build_posterior()\n",
    "proposal = posterior.set_default_x(observation)\n",
    "samples = posterior.sample((2000,))\n",
    "_ = analysis.pairplot(samples, limits=[[-2, 0], [-2, 0], [-2, 0]], figsize=(6, 6))"
   ]
  },
  {
   "cell_type": "code",
   "execution_count": 75,
   "id": "02d6e56f-dd10-4114-9b08-9bc8ed26b28e",
   "metadata": {},
   "outputs": [
    {
     "data": {
      "image/png": "[encoded data removed]",
      "text/plain": [
       "<Figure size 432x432 with 9 Axes>"
      ]
     },
     "metadata": {
      "needs_background": "light"
     },
     "output_type": "display_data"
    }
   ],
   "source": [
    "_ = analysis.pairplot(samples, limits=[[-2, 2], [-2, 2], [-2, 2]], figsize=(6, 6))"
   ]
  },
  {
   "cell_type": "code",
   "execution_count": null,
   "id": "f5883c28-a324-4f98-9d60-c870c13149d5",
   "metadata": {},
   "outputs": [],
   "source": []
  },
  {
   "cell_type": "code",
   "execution_count": null,
   "id": "63316751-157d-450d-85a9-109f8f9573d1",
   "metadata": {},
   "outputs": [],
   "source": []
  },
  {
   "cell_type": "code",
   "execution_count": null,
   "id": "94647656-9c9e-4123-9224-f5364afc1881",
   "metadata": {},
   "outputs": [],
   "source": []
  }
 ],
 "metadata": {
  "kernelspec": {
   "display_name": "venv",
   "language": "python",
   "name": "venv"
  },
  "language_info": {
   "codemirror_mode": {
    "name": "ipython",
    "version": 3
   },
   "file_extension": ".py",
   "mimetype": "text/x-python",
   "name": "python",
   "nbconvert_exporter": "python",
   "pygments_lexer": "ipython3",
   "version": "3.9.12"
  }
 },
 "nbformat": 4,
 "nbformat_minor": 5
}
